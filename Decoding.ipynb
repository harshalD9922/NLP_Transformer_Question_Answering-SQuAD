{
  "nbformat": 4,
  "nbformat_minor": 0,
  "metadata": {
    "colab": {
      "name": "Decoding.ipynb",
      "private_outputs": true,
      "provenance": [],
      "authorship_tag": "ABX9TyO1bP8xVUCnshemhIYCBBbt",
      "include_colab_link": true
    },
    "kernelspec": {
      "name": "python3",
      "display_name": "Python 3"
    },
    "language_info": {
      "name": "python"
    }
  },
  "cells": [
    {
      "cell_type": "markdown",
      "metadata": {
        "id": "view-in-github",
        "colab_type": "text"
      },
      "source": [
        "<a href=\"https://colab.research.google.com/github/harshalDharpure/Decoding-in-NLP-Transformers/blob/main/Decoding.ipynb\" target=\"_parent\"><img src=\"https://colab.research.google.com/assets/colab-badge.svg\" alt=\"Open In Colab\"/></a>"
      ]
    },
    {
      "cell_type": "code",
      "metadata": {
        "id": "mnQ-1F5Hoyxh"
      },
      "source": [
        "! pip install transformers"
      ],
      "execution_count": null,
      "outputs": []
    },
    {
      "cell_type": "code",
      "metadata": {
        "id": "FMpJjg1xodQK"
      },
      "source": [
        "from transformers import GPT2LMHeadModel, GPT2Tokenizer\n",
        "tokenizer = GPT2Tokenizer.from_pretrained('gpt2')\n",
        "model = GPT2LMHeadModel.from_pretrained('gpt2')\n",
        "sequence = (\"He began his premiership by forming a five-man war cabinet which included\"\n",
        "            \"Chamerlain as Lord President of the Council, Labour leader Clement Attlee as\"\n",
        "            \"Lord Privy Seal (later as Deputy Prime Minister), Halifax as Foreign Secretary\"\n",
        "            \"and Labour's Arthur Greenwood as a minister without portfolio. In practice,\")\n",
        "inputs = tokenizer.encode(sequence, return_tensors='pt')"
      ],
      "execution_count": null,
      "outputs": []
    },
    {
      "cell_type": "code",
      "metadata": {
        "id": "Ix_YXp-NpOCO"
      },
      "source": [
        "outputs = model.generate(inputs, max_length=200, do_sample=True, num_beams=5)\n",
        "tokenizer.decode(outputs[0])"
      ],
      "execution_count": null,
      "outputs": []
    },
    {
      "cell_type": "code",
      "metadata": {
        "id": "anCJUl0opPoY"
      },
      "source": [
        "outputs = model.generate(inputs, max_length=200, do_sample=True, num_beams=5, temperature=1.5)\n",
        "tokenizer.decode(outputs[0])"
      ],
      "execution_count": null,
      "outputs": []
    }
  ]
}